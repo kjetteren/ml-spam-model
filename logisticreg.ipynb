import numpy as np

# Sigmoid function
def sigmoid(z):
    return 1 / (1 + np.exp(-z))

def train_logistic_regression(X, y, lr=0.01, epochs=1000):
   
    m, n = X.shape
    w = np.zeros(n)  # Initialize weights
    b = 0            # Initialize bias
    
    for epoch in range(epochs):
        z = np.dot(X, w) + b
        predictions = sigmoid(z)
        
        # Compute gradients
        dw = (1 / m) * np.dot(X.T, (predictions - y))
        db = (1 / m) * np.sum(predictions - y)
        
        # Update weights and bias
        w -= lr * dw
        b -= lr * db
    
    return w, b

# Predict function
def predict(X, w, b, threshold=0.5):
    z = np.dot(X, w) + b
    probabilities = sigmoid(z)
    return (probabilities >= threshold).astype(int)

# Example data (replace with your actual dataset)
data=pd.read_csv("dataset/PhishingDataset.csv")

X = data[['DomainLength']]  # Feature: string length
y = data['label']   # Target: scam (1) or not (0)

weights, bias = train_logistic_regression(X, y, lr=0.1, epochs=1000)

# Test the model
test_length = 40
test_normalized = (test_length - np.mean(data[:, 0])) / np.std(data[:, 0])
test_prediction = predict(np.array([[test_normalized]]), weights, bias)
print(f"Prediction for string of length {test_length}: {'Scam' if test_prediction[0] == 1 else 'Not scam'}")
