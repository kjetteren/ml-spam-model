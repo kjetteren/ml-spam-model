{
 "cells": [
  {
   "cell_type": "code",
   "id": "d5e70c52",
   "metadata": {
    "scrolled": true,
    "ExecuteTime": {
     "end_time": "2024-11-14T21:45:52.120170Z",
     "start_time": "2024-11-14T21:45:51.092954Z"
    }
   },
   "source": [
    "#*****************************************Import********************************************\n",
    "import numpy as np\n",
    "import pandas as pd\n",
    "from sklearn.model_selection import train_test_split\n",
    "import warnings\n",
    "from sklearn.model_selection import cross_val_score\n",
    "from sklearn import metrics\n",
    "from sklearn import preprocessing\n",
    "import matplotlib.pyplot as plt\n",
    "warnings.filterwarnings('ignore')\n",
    "import time\n",
    "\n",
    "df=pd.read_csv(\"dataset/PhishingDataset.csv\")\n",
    "\n",
    "ROWS = len(df.axes[0]) \n",
    "COLUMNS = len(df.axes[1])\n",
    "df = df.replace([np.inf, -np.inf], np.nan)\n",
    "df=df.dropna()\n",
    "LABEL = df.iloc[:,-1:].columns[0]\n",
    "\n",
    "\n",
    "print(\"Row-Column Count before cleaning: (\", ROWS , \" , \",  COLUMNS , \")\")\n",
    "\n",
    "df.iloc[:,-1:].value_counts()"
   ],
   "outputs": [
    {
     "name": "stdout",
     "output_type": "stream",
     "text": [
      "Row-Column Count before cleaning: ( 235795  ,  56 )\n"
     ]
    },
    {
     "data": {
      "text/plain": [
       "label\n",
       "1        134850\n",
       "0        100945\n",
       "Name: count, dtype: int64"
      ]
     },
     "execution_count": 8,
     "metadata": {},
     "output_type": "execute_result"
    }
   ],
   "execution_count": 8
  },
  {
   "cell_type": "code",
   "id": "ba9e2509",
   "metadata": {
    "scrolled": true,
    "ExecuteTime": {
     "end_time": "2024-11-14T21:45:52.279665Z",
     "start_time": "2024-11-14T21:45:52.144013Z"
    }
   },
   "source": [
    "#cols = df.select_dtypes(include=['float64','int64']).columns\n",
    "#dfAll = pd.DataFrame(df['FILENAME']).copy()\n",
    "#df = pd.DataFrame(df[cols]).copy()\n",
    "df = df.reset_index(drop=True)\n",
    "LABEL = df.iloc[:,-1:].columns[0]\n",
    "cols = ['LineOfCode', 'NoOfExternalRef', 'LargestLineLength', 'URLLength', 'NoOfImage', 'NoOfJS', 'NoOfSelfRef', 'NoOfCSS', \n",
    "        'URLCharProb', 'CharContinuationRate', 'LetterRatioInURL', 'IsHTTPS', 'SpacialCharRatioInURL','NoOfEmptyRef', \n",
    "        'NoOfOtherSpecialCharsInURL', 'HasDescription', 'HasSocialNet', 'DomainLength', 'DegitRatioInURL','NoOfDegitsInURL',\n",
    "        'HasCopyrightInfo', 'NoOfLettersInURL','TLDLegitimateProb', 'DomainTitleMatchScore', 'IsResponsive', \n",
    "        'HasHiddenFields', 'HasSubmitButton','NoOfSubDomain', 'HasFavicon', 'HasTitle',LABEL]\n",
    "df = pd.DataFrame(df[cols]).copy()\n",
    "df30, df70=train_test_split(df,test_size=.1)\n",
    "\n",
    "df30 = df30.reset_index(drop=True)\n",
    "df70 = df70.reset_index(drop=True)\n",
    "\n",
    "yTrain = pd.DataFrame(df30[LABEL]).copy()\n",
    "df30.drop(LABEL, axis=1, inplace=True)\n",
    "xTrain = pd.DataFrame(df30).copy()\n",
    "\n",
    "dfX = pd.DataFrame(df70[cols]).copy()\n",
    "dfX.drop(LABEL, axis=1, inplace=True)\n",
    "dfY = pd.DataFrame(df70[LABEL]).copy()\n",
    "print(\"Finished Train-Test Split.\")\n",
    "len(xTrain.axes[0]) "
   ],
   "outputs": [
    {
     "name": "stdout",
     "output_type": "stream",
     "text": [
      "Finished Train-Test Split.\n"
     ]
    },
    {
     "data": {
      "text/plain": [
       "212215"
      ]
     },
     "execution_count": 9,
     "metadata": {},
     "output_type": "execute_result"
    }
   ],
   "execution_count": 9
  },
  {
   "cell_type": "code",
   "id": "3958e2c5",
   "metadata": {
    "ExecuteTime": {
     "end_time": "2024-11-14T21:46:16.987481Z",
     "start_time": "2024-11-14T21:45:52.326850Z"
    }
   },
   "source": [
    "from sklearn.naive_bayes import BernoulliNB\n",
    "from sklearn.linear_model import PassiveAggressiveClassifier\n",
    "from sklearn.linear_model import SGDClassifier\n",
    "Models = []\n",
    "Models.append((\"BernoulliNB\",BernoulliNB(alpha= 0.01, binarize= 0.0, class_prior= None, fit_prior= False, force_alpha= True)))\n",
    "Models.append((\"PassiveAggressive\",PassiveAggressiveClassifier(C= 4, fit_intercept= False, n_iter_no_change= 50, n_jobs= 10, shuffle= True, verbose= 0)))\n",
    "Models.append((\"SGDClassifier\",SGDClassifier(alpha= 0.01, eta0= 100, n_iter_no_change= 50, n_jobs= 1)))\n",
    "\n",
    "start = time.time()\n",
    "for name, model in Models:\n",
    "    model.fit(xTrain, yTrain)\n",
    "end = time.time()\n",
    "OneTime = int(end - start)\n",
    "print(\"Finished first training: \", OneTime)"
   ],
   "outputs": [
    {
     "name": "stdout",
     "output_type": "stream",
     "text": [
      "Finished first training:  24\n"
     ]
    }
   ],
   "execution_count": 10
  },
  {
   "cell_type": "code",
   "id": "e5fa1a44",
   "metadata": {
    "ExecuteTime": {
     "end_time": "2024-11-14T21:47:18.784387Z",
     "start_time": "2024-11-14T21:46:17.027958Z"
    }
   },
   "source": [
    "Handler = pd.DataFrame(columns=['BernoulliNB','PassiveAggressive','SGDClassifier', 'sum','isCorrect','predicted',\n",
    "                                'label','LowSecurity','BestSecurity','HighSecurity','LearningRate','AverageLearningRate'])\n",
    "LRList = []\n",
    "AvgLRList = []\n",
    "n = len(dfX.axes[0])\n",
    "X = dfX.iloc[[0]].to_numpy() \n",
    "Y = dfY.iloc[[0]]\n",
    "Y = np.array(Y[LABEL])\n",
    "p = len(Models)    \n",
    "accurate=0\n",
    "start = time.time()\n",
    "for i in range(0,n):\n",
    "    try:\n",
    "        X = dfX.iloc[[i]].to_numpy() \n",
    "        Y = dfY.iloc[[i]]\n",
    "        Y = np.array(Y[LABEL])\n",
    "        predict=0\n",
    "        yP=0\n",
    "        nRow = {}\n",
    "        nRow['isCorrect'] = 0\n",
    "        nRow['LowSecurity'] = 0\n",
    "        nRow['BestSecurity'] = 0\n",
    "        nRow['HighSecurity'] = 0\n",
    "        \n",
    "        for name, model in Models:\n",
    "            pr = model.predict(X)\n",
    "            predict = predict + pr[0]\n",
    "            model.partial_fit(X, Y, classes=[0,1])\n",
    "            if(pr[0]==Y[0]):\n",
    "                nRow[name] = 1\n",
    "            else:\n",
    "                nRow[name] = 0\n",
    "\n",
    "        if (predict==1):\n",
    "            nRow['LowSecurity'] = 1\n",
    "        elif (predict==2):\n",
    "            yP = 1\n",
    "            nRow['LowSecurity'] = 1\n",
    "            nRow['BestSecurity'] = 1\n",
    "        elif (predict==3):\n",
    "            yP = 1\n",
    "            nRow['LowSecurity'] = 1\n",
    "            nRow['BestSecurity'] = 1\n",
    "            nRow['HighSecurity'] = 1\n",
    "            \n",
    "            \n",
    "        if(yP==Y[0]):\n",
    "            accurate = accurate + 1\n",
    "            nRow['isCorrect'] = 1\n",
    "        elif(i%250==0): \n",
    "            print(i)\n",
    "        nRow['sum'] = predict\n",
    "        nRow['predicted'] = yP\n",
    "        nRow['label'] = Y[0]\n",
    "          \n",
    "        LearnRate=accurate/n\n",
    "        AvgLearnRate=accurate/(i+1)\n",
    "        LRList.append(LearnRate)\n",
    "        AvgLRList.append(AvgLearnRate)\n",
    "        \n",
    "        nRow['LearningRate'] = LearnRate\n",
    "        nRow['AverageLearningRate'] = AvgLearnRate\n",
    "\n",
    "        Handler = pd.concat([Handler, pd.DataFrame([nRow])], ignore_index=True)\n",
    "        \n",
    "    except Exception as ex:\n",
    "        print(ex)\n",
    "end = time.time()\n",
    "IncTime = int(end - start)\n",
    "# Handler.to_csv('dataset/ReportsPhishing/Model_Result_29May_90.csv',index = False)\n",
    "print('Time:', IncTime, ' Accuracy:',accurate/n)"
   ],
   "outputs": [
    {
     "name": "stdout",
     "output_type": "stream",
     "text": [
      "Time: 61  Accuracy: 0.9984308736217133\n"
     ]
    }
   ],
   "execution_count": 11
  },
  {
   "cell_type": "code",
   "id": "dd180900",
   "metadata": {
    "ExecuteTime": {
     "end_time": "2024-11-14T21:47:19.043360Z",
     "start_time": "2024-11-14T21:47:18.871009Z"
    }
   },
   "source": [
    "import matplotlib.pyplot as plt\n",
    "plt.figure(figsize=(18,10))\n",
    "plt.plot(LRList)"
   ],
   "outputs": [
    {
     "data": {
      "text/plain": [
       "[<matplotlib.lines.Line2D at 0x78025c093fb0>]"
      ]
     },
     "execution_count": 12,
     "metadata": {},
     "output_type": "execute_result"
    },
    {
     "data": {
      "text/plain": [
       "<Figure size 1800x1000 with 1 Axes>"
      ],
      "image/png": "[encoded data removed]"
     },
     "metadata": {},
     "output_type": "display_data"
    }
   ],
   "execution_count": 12
  },
  {
   "cell_type": "code",
   "id": "64daa05b",
   "metadata": {
    "ExecuteTime": {
     "end_time": "2024-11-14T21:47:19.143436Z",
     "start_time": "2024-11-14T21:47:19.055277Z"
    }
   },
   "source": [
    "plt.figure(figsize=(6,3))\n",
    "plt.plot(AvgLRList)"
   ],
   "outputs": [
    {
     "data": {
      "text/plain": [
       "[<matplotlib.lines.Line2D at 0x78025c03ecf0>]"
      ]
     },
     "execution_count": 13,
     "metadata": {},
     "output_type": "execute_result"
    },
    {
     "data": {
      "text/plain": [
       "<Figure size 600x300 with 1 Axes>"
      ],
      "image/png": "[encoded data removed]"
     },
     "metadata": {},
     "output_type": "display_data"
    }
   ],
   "execution_count": 13
  },
  {
   "cell_type": "code",
   "id": "223c90ad",
   "metadata": {
    "ExecuteTime": {
     "end_time": "2024-11-14T21:47:19.316617Z",
     "start_time": "2024-11-14T21:47:19.174901Z"
    }
   },
   "source": [
    "plt.figure(figsize=(18,8))\n",
    "plt.plot(AvgLRList)"
   ],
   "outputs": [
    {
     "data": {
      "text/plain": [
       "[<matplotlib.lines.Line2D at 0x78025c0df950>]"
      ]
     },
     "execution_count": 14,
     "metadata": {},
     "output_type": "execute_result"
    },
    {
     "data": {
      "text/plain": [
       "<Figure size 1800x800 with 1 Axes>"
      ],
      "image/png": "[encoded data removed]"
     },
     "metadata": {},
     "output_type": "display_data"
    }
   ],
   "execution_count": 14
  },
  {
   "cell_type": "code",
   "id": "212ddb54",
   "metadata": {
    "ExecuteTime": {
     "end_time": "2024-11-14T21:47:19.382116Z",
     "start_time": "2024-11-14T21:47:19.353680Z"
    }
   },
   "source": [
    "ResAnalysis = pd.DataFrame(columns=['yTest']).copy()\n",
    "ResAnalysis['yTest'] = Handler['label']\n",
    "ResAnalysis['M1Vote'] = Handler['LowSecurity']\n",
    "ResAnalysis['M1rTP'] = np.where(ResAnalysis['yTest'] == 1, \n",
    "                                   np.where(Handler['LowSecurity']==1, 1, 0), 0)\n",
    "ResAnalysis['M1rTN'] = np.where(ResAnalysis['yTest'] == 0, \n",
    "                                   np.where(Handler['LowSecurity']==0, 1, 0), 0)\n",
    "ResAnalysis['M1rFP'] = np.where(ResAnalysis['yTest'] == 0, \n",
    "                                   np.where(Handler['LowSecurity']==1, 1, 0), 0)\n",
    "ResAnalysis['M1rFN'] = np.where(ResAnalysis['yTest'] == 1, \n",
    "                                   np.where(Handler['LowSecurity']==0, 1, 0), 0)\n",
    "\n",
    "records = len(ResAnalysis['yTest'])\n",
    "CorretPred = np.where(ResAnalysis['yTest'] == ResAnalysis['M1Vote'], 1, 0).sum()\n",
    "TP = int(ResAnalysis['M1rTP'].sum())\n",
    "TN = int(ResAnalysis['M1rTN'].sum())\n",
    "FP = int(ResAnalysis['M1rFP'].sum())\n",
    "FN = int(ResAnalysis['M1rFN'].sum())\n",
    "print(TP, ' ' , TN, ' ', FP,' ', FN)\n",
    "\n",
    "MCC = int((TP*TN)-(FP*FN))/(int((TP+FP)*(TP+FN)*(TN+FP)*(TN+FN))**0.5)\n",
    "\n",
    "Accuracy = CorretPred/records\n",
    "Precision = TP/(TP+FP)\n",
    "Sensitivity = TP/(TP+FN)\n",
    "F1Score = 2* ((Precision*Sensitivity)/(Precision+Sensitivity))\n",
    "\n",
    "\n",
    "print(\"Accuracy    : \", Accuracy)\n",
    "print(\"Precision   : \", Precision)\n",
    "print(\"Sensitivity : \", Sensitivity)\n",
    "print(\"F1 Score    : \", F1Score )\n",
    "print(\"MCC    : \", MCC )\n",
    "\n",
    "Metrics= pd.DataFrame()\n",
    "newRow = {}\n",
    "newRow['Mode'] = \"LowSecurity\"\n",
    "newRow['Accuracy'] = Accuracy\n",
    "newRow['Precision'] = Precision\n",
    "newRow['Sensitivity'] = Sensitivity\n",
    "newRow['F1Score'] = F1Score\n",
    "newRow['MCC'] = MCC\n",
    "newRow['OneTime'] = OneTime\n",
    "newRow['IncTime'] = IncTime\n",
    "Metrics = pd.concat([Metrics, pd.DataFrame([newRow])], ignore_index=True)\n",
    "\n",
    "CM= pd.DataFrame()\n",
    "newRow = {}\n",
    "newRow['Mode'] = \"LowSecurity\"\n",
    "newRow['TP'] = TP\n",
    "newRow['TN'] = TN\n",
    "newRow['FP'] = FP\n",
    "newRow['FN'] = FN\n",
    "CM = pd.concat([CM, pd.DataFrame([newRow])], ignore_index=True)"
   ],
   "outputs": [
    {
     "name": "stdout",
     "output_type": "stream",
     "text": [
      "13475   9767   337   1\n",
      "Accuracy    :  0.9856658184902459\n",
      "Precision   :  0.9756009267303793\n",
      "Sensitivity :  0.9999257940041555\n",
      "F1 Score    :  0.9876136030489593\n",
      "MCC    :  0.9710253530382837\n"
     ]
    }
   ],
   "execution_count": 15
  },
  {
   "cell_type": "code",
   "id": "8061ee5b",
   "metadata": {
    "ExecuteTime": {
     "end_time": "2024-11-14T21:47:19.452786Z",
     "start_time": "2024-11-14T21:47:19.422390Z"
    }
   },
   "source": [
    "ResAnalysis = pd.DataFrame(columns=['yTest']).copy()\n",
    "ResAnalysis['yTest'] = Handler['label']\n",
    "ResAnalysis['M2Vote'] = Handler['BestSecurity']\n",
    "ResAnalysis['M2rTP'] = np.where(ResAnalysis['yTest'] == 1, \n",
    "                                   np.where(Handler['BestSecurity']==1, 1, 0), 0)\n",
    "ResAnalysis['M2rTN'] = np.where(ResAnalysis['yTest'] == 0, \n",
    "                                   np.where(Handler['BestSecurity']==0, 1, 0), 0)\n",
    "ResAnalysis['M2rFP'] = np.where(ResAnalysis['yTest'] == 0, \n",
    "                                   np.where(Handler['BestSecurity']==1, 1, 0), 0)\n",
    "ResAnalysis['M2rFN'] = np.where(ResAnalysis['yTest'] == 1, \n",
    "                                   np.where(Handler['BestSecurity']==0, 1, 0), 0)\n",
    "\n",
    "records = len(ResAnalysis['yTest'])\n",
    "CorretPred = np.where(ResAnalysis['yTest'] == ResAnalysis['M2Vote'], 1, 0).sum()\n",
    "TP = int(ResAnalysis['M2rTP'].sum())\n",
    "TN = int(ResAnalysis['M2rTN'].sum())\n",
    "FP = int(ResAnalysis['M2rFP'].sum())\n",
    "FN = int(ResAnalysis['M2rFN'].sum())\n",
    "print(TP, ' ' , TN, ' ', FP,' ', FN)\n",
    "\n",
    "MCC = int((TP*TN)-(FP*FN))/(int((TP+FP)*(TP+FN)*(TN+FP)*(TN+FN))**0.5)\n",
    "\n",
    "Accuracy = CorretPred/records\n",
    "Precision = TP/(TP+FP)\n",
    "Sensitivity = TP/(TP+FN)\n",
    "F1Score = 2* ((Precision*Sensitivity)/(Precision+Sensitivity))\n",
    "\n",
    "\n",
    "print(\"Accuracy    : \", Accuracy)\n",
    "print(\"Precision   : \", Precision)\n",
    "print(\"Sensitivity : \", Sensitivity)\n",
    "print(\"F1 Score    : \", F1Score )\n",
    "print(\"MCC    : \", MCC )\n",
    "\n",
    "newRow = {}\n",
    "newRow['Mode'] = \"BestSecurity\"\n",
    "newRow['Accuracy'] = Accuracy\n",
    "newRow['Precision'] = Precision\n",
    "newRow['Sensitivity'] = Sensitivity\n",
    "newRow['F1Score'] = F1Score\n",
    "newRow['MCC'] = MCC\n",
    "newRow['OneTime'] = OneTime\n",
    "newRow['IncTime'] = IncTime\n",
    "Metrics = pd.concat([Metrics, pd.DataFrame([newRow])], ignore_index=True)\n",
    "\n",
    "newRow = {}\n",
    "newRow['Mode'] = \"BestSecurity\"\n",
    "newRow['TP'] = TP\n",
    "newRow['TN'] = TN\n",
    "newRow['FP'] = FP\n",
    "newRow['FN'] = FN\n",
    "CM = pd.concat([CM, pd.DataFrame([newRow])], ignore_index=True)"
   ],
   "outputs": [
    {
     "name": "stdout",
     "output_type": "stream",
     "text": [
      "13463   10080   24   13\n",
      "Accuracy    :  0.9984308736217133\n",
      "Precision   :  0.9982205086379476\n",
      "Sensitivity :  0.999035322054022\n",
      "F1 Score    :  0.9986277491377072\n",
      "MCC    :  0.9967962468801685\n"
     ]
    }
   ],
   "execution_count": 16
  },
  {
   "cell_type": "code",
   "id": "cae34d02",
   "metadata": {
    "ExecuteTime": {
     "end_time": "2024-11-14T21:47:19.519925Z",
     "start_time": "2024-11-14T21:47:19.491710Z"
    }
   },
   "source": [
    "ResAnalysis = pd.DataFrame(columns=['yTest']).copy()\n",
    "ResAnalysis['yTest'] = Handler['label']\n",
    "ResAnalysis['M3Vote'] = Handler['HighSecurity']\n",
    "ResAnalysis['M3rTP'] = np.where(ResAnalysis['yTest'] == 1, \n",
    "                                   np.where(Handler['HighSecurity']==1, 1, 0), 0)\n",
    "ResAnalysis['M3rTN'] = np.where(ResAnalysis['yTest'] == 0, \n",
    "                                   np.where(Handler['HighSecurity']==0, 1, 0), 0)\n",
    "ResAnalysis['M3rFP'] = np.where(ResAnalysis['yTest'] == 0, \n",
    "                                   np.where(Handler['HighSecurity']==1, 1, 0), 0)\n",
    "ResAnalysis['M3rFN'] = np.where(ResAnalysis['yTest'] == 1, \n",
    "                                   np.where(Handler['HighSecurity']==0, 1, 0), 0)\n",
    "\n",
    "records = len(ResAnalysis['yTest'])\n",
    "CorretPred = np.where(ResAnalysis['yTest'] == ResAnalysis['M3Vote'], 1, 0).sum()\n",
    "TP = int(ResAnalysis['M3rTP'].sum())\n",
    "TN = int(ResAnalysis['M3rTN'].sum())\n",
    "FP = int(ResAnalysis['M3rFP'].sum())\n",
    "FN = int(ResAnalysis['M3rFN'].sum())\n",
    "print(TP, ' ' , TN, ' ', FP,' ', FN)\n",
    "\n",
    "MCC = int((TP*TN)-(FP*FN))/(int((TP+FP)*(TP+FN)*(TN+FP)*(TN+FN))**0.5)\n",
    "\n",
    "Accuracy = CorretPred/records\n",
    "Precision = TP/(TP+FP)\n",
    "Sensitivity = TP/(TP+FN)\n",
    "F1Score = 2* ((Precision*Sensitivity)/(Precision+Sensitivity))\n",
    "\n",
    "\n",
    "print(\"Accuracy    : \", Accuracy)\n",
    "print(\"Precision   : \", Precision)\n",
    "print(\"Sensitivity : \", Sensitivity)\n",
    "print(\"F1 Score    : \", F1Score )\n",
    "print(\"MCC    : \", MCC )\n",
    "\n",
    "newRow = {}\n",
    "newRow['Mode'] = \"HighSecurity\"\n",
    "newRow['Accuracy'] = Accuracy\n",
    "newRow['Precision'] = Precision\n",
    "newRow['Sensitivity'] = Sensitivity\n",
    "newRow['F1Score'] = F1Score\n",
    "newRow['MCC'] = MCC\n",
    "newRow['OneTime'] = OneTime\n",
    "newRow['IncTime'] = IncTime\n",
    "Metrics = pd.concat([Metrics, pd.DataFrame([newRow])], ignore_index=True)\n",
    "\n",
    "newRow = {}\n",
    "newRow['Mode'] = \"HighSecurity\"\n",
    "newRow['TP'] = TP\n",
    "newRow['TN'] = TN\n",
    "newRow['FP'] = FP\n",
    "newRow['FN'] = FN\n",
    "CM = pd.concat([CM, pd.DataFrame([newRow])], ignore_index=True)"
   ],
   "outputs": [
    {
     "name": "stdout",
     "output_type": "stream",
     "text": [
      "13345   10104   0   131\n",
      "Accuracy    :  0.9944444444444445\n",
      "Precision   :  1.0\n",
      "Sensitivity :  0.9902790145443752\n",
      "F1 Score    :  0.9951157674956191\n",
      "MCC    :  0.9887387001587594\n"
     ]
    }
   ],
   "execution_count": 17
  },
  {
   "cell_type": "code",
   "id": "35dd8b9d",
   "metadata": {
    "ExecuteTime": {
     "end_time": "2024-11-14T21:47:19.617466Z",
     "start_time": "2024-11-14T21:47:19.600787Z"
    }
   },
   "source": [
    "Metrics"
   ],
   "outputs": [
    {
     "data": {
      "text/plain": [
       "           Mode  Accuracy  Precision  Sensitivity   F1Score       MCC  \\\n",
       "0   LowSecurity  0.985666   0.975601     0.999926  0.987614  0.971025   \n",
       "1  BestSecurity  0.998431   0.998221     0.999035  0.998628  0.996796   \n",
       "2  HighSecurity  0.994444   1.000000     0.990279  0.995116  0.988739   \n",
       "\n",
       "   OneTime  IncTime  \n",
       "0       24       61  \n",
       "1       24       61  \n",
       "2       24       61  "
      ],
      "text/html": [
       "<div>\n",
       "<style scoped>\n",
       "    .dataframe tbody tr th:only-of-type {\n",
       "        vertical-align: middle;\n",
       "    }\n",
       "\n",
       "    .dataframe tbody tr th {\n",
       "        vertical-align: top;\n",
       "    }\n",
       "\n",
       "    .dataframe thead th {\n",
       "        text-align: right;\n",
       "    }\n",
       "</style>\n",
       "<table border=\"1\" class=\"dataframe\">\n",
       "  <thead>\n",
       "    <tr style=\"text-align: right;\">\n",
       "      <th></th>\n",
       "      <th>Mode</th>\n",
       "      <th>Accuracy</th>\n",
       "      <th>Precision</th>\n",
       "      <th>Sensitivity</th>\n",
       "      <th>F1Score</th>\n",
       "      <th>MCC</th>\n",
       "      <th>OneTime</th>\n",
       "      <th>IncTime</th>\n",
       "    </tr>\n",
       "  </thead>\n",
       "  <tbody>\n",
       "    <tr>\n",
       "      <th>0</th>\n",
       "      <td>LowSecurity</td>\n",
       "      <td>0.985666</td>\n",
       "      <td>0.975601</td>\n",
       "      <td>0.999926</td>\n",
       "      <td>0.987614</td>\n",
       "      <td>0.971025</td>\n",
       "      <td>24</td>\n",
       "      <td>61</td>\n",
       "    </tr>\n",
       "    <tr>\n",
       "      <th>1</th>\n",
       "      <td>BestSecurity</td>\n",
       "      <td>0.998431</td>\n",
       "      <td>0.998221</td>\n",
       "      <td>0.999035</td>\n",
       "      <td>0.998628</td>\n",
       "      <td>0.996796</td>\n",
       "      <td>24</td>\n",
       "      <td>61</td>\n",
       "    </tr>\n",
       "    <tr>\n",
       "      <th>2</th>\n",
       "      <td>HighSecurity</td>\n",
       "      <td>0.994444</td>\n",
       "      <td>1.000000</td>\n",
       "      <td>0.990279</td>\n",
       "      <td>0.995116</td>\n",
       "      <td>0.988739</td>\n",
       "      <td>24</td>\n",
       "      <td>61</td>\n",
       "    </tr>\n",
       "  </tbody>\n",
       "</table>\n",
       "</div>"
      ]
     },
     "execution_count": 18,
     "metadata": {},
     "output_type": "execute_result"
    }
   ],
   "execution_count": 18
  },
  {
   "cell_type": "code",
   "id": "1ea5d92d",
   "metadata": {
    "ExecuteTime": {
     "end_time": "2024-11-14T21:47:19.902595Z",
     "start_time": "2024-11-14T21:47:19.893963Z"
    }
   },
   "source": [
    "CM"
   ],
   "outputs": [
    {
     "data": {
      "text/plain": [
       "           Mode     TP     TN   FP   FN\n",
       "0   LowSecurity  13475   9767  337    1\n",
       "1  BestSecurity  13463  10080   24   13\n",
       "2  HighSecurity  13345  10104    0  131"
      ],
      "text/html": [
       "<div>\n",
       "<style scoped>\n",
       "    .dataframe tbody tr th:only-of-type {\n",
       "        vertical-align: middle;\n",
       "    }\n",
       "\n",
       "    .dataframe tbody tr th {\n",
       "        vertical-align: top;\n",
       "    }\n",
       "\n",
       "    .dataframe thead th {\n",
       "        text-align: right;\n",
       "    }\n",
       "</style>\n",
       "<table border=\"1\" class=\"dataframe\">\n",
       "  <thead>\n",
       "    <tr style=\"text-align: right;\">\n",
       "      <th></th>\n",
       "      <th>Mode</th>\n",
       "      <th>TP</th>\n",
       "      <th>TN</th>\n",
       "      <th>FP</th>\n",
       "      <th>FN</th>\n",
       "    </tr>\n",
       "  </thead>\n",
       "  <tbody>\n",
       "    <tr>\n",
       "      <th>0</th>\n",
       "      <td>LowSecurity</td>\n",
       "      <td>13475</td>\n",
       "      <td>9767</td>\n",
       "      <td>337</td>\n",
       "      <td>1</td>\n",
       "    </tr>\n",
       "    <tr>\n",
       "      <th>1</th>\n",
       "      <td>BestSecurity</td>\n",
       "      <td>13463</td>\n",
       "      <td>10080</td>\n",
       "      <td>24</td>\n",
       "      <td>13</td>\n",
       "    </tr>\n",
       "    <tr>\n",
       "      <th>2</th>\n",
       "      <td>HighSecurity</td>\n",
       "      <td>13345</td>\n",
       "      <td>10104</td>\n",
       "      <td>0</td>\n",
       "      <td>131</td>\n",
       "    </tr>\n",
       "  </tbody>\n",
       "</table>\n",
       "</div>"
      ]
     },
     "execution_count": 19,
     "metadata": {},
     "output_type": "execute_result"
    }
   ],
   "execution_count": 19
  },
  {
   "cell_type": "code",
   "id": "d66bffdb",
   "metadata": {
    "ExecuteTime": {
     "end_time": "2024-11-14T21:47:19.964928Z",
     "start_time": "2024-11-14T21:47:19.962284Z"
    }
   },
   "source": [],
   "outputs": [],
   "execution_count": null
  }
 ],
 "metadata": {
  "kernelspec": {
   "display_name": "Python 3 (ipykernel)",
   "language": "python",
   "name": "python3"
  },
  "language_info": {
   "codemirror_mode": {
    "name": "ipython",
    "version": 3
   },
   "file_extension": ".py",
   "mimetype": "text/x-python",
   "name": "python",
   "nbconvert_exporter": "python",
   "pygments_lexer": "ipython3",
   "version": "3.9.13"
  }
 },
 "nbformat": 4,
 "nbformat_minor": 5
}
