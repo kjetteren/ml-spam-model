{
 "cells": [
  {
   "cell_type": "code",
   "id": "3a68c5d2",
   "metadata": {
    "scrolled": true,
    "ExecuteTime": {
     "end_time": "2024-11-13T16:38:09.786001Z",
     "start_time": "2024-11-13T16:38:08.766777Z"
    }
   },
   "source": [
    "#*****************************************Import********************************************\n",
    "import numpy as np\n",
    "import pandas as pd\n",
    "from sklearn.model_selection import train_test_split\n",
    "import warnings\n",
    "from sklearn.model_selection import cross_val_score\n",
    "from sklearn import metrics\n",
    "from sklearn import preprocessing\n",
    "import matplotlib.pyplot as plt\n",
    "warnings.filterwarnings('ignore')\n",
    "import time\n",
    "\n",
    "df=pd.read_csv(\"dataset/PhishingDataset.csv\")\n",
    "\n",
    "ROWS = len(df.axes[0]) \n",
    "COLUMNS = len(df.axes[1])\n",
    "df = df.replace([np.inf, -np.inf], np.nan)\n",
    "df=df.dropna()\n",
    "LABEL = df.iloc[:,-1:].columns[0]\n",
    "print(\"Row-Column Count before cleaning: (\", ROWS , \" , \",  COLUMNS , \")\")\n",
    "\n",
    "df.iloc[:,-1:].value_counts()"
   ],
   "outputs": [
    {
     "name": "stdout",
     "output_type": "stream",
     "text": [
      "Row-Column Count before cleaning: ( 235795  ,  56 )\n"
     ]
    },
    {
     "data": {
      "text/plain": [
       "label\n",
       "1        134850\n",
       "0        100945\n",
       "Name: count, dtype: int64"
      ]
     },
     "execution_count": 4,
     "metadata": {},
     "output_type": "execute_result"
    }
   ],
   "execution_count": 4
  },
  {
   "cell_type": "code",
   "id": "ddacaad2",
   "metadata": {
    "scrolled": true,
    "ExecuteTime": {
     "end_time": "2024-11-13T16:38:09.996594Z",
     "start_time": "2024-11-13T16:38:09.809939Z"
    }
   },
   "source": [
    "cols = df.select_dtypes(include=['float64','int64']).columns\n",
    "cols=cols.drop('URLSimilarityIndex')\n",
    "df = pd.DataFrame(df[cols]).copy()\n",
    "df = df.reset_index(drop=True)\n",
    "LABEL = df.iloc[:,-1:].columns[0]\n",
    "\n",
    "Train, Test=train_test_split(df,test_size=0.3, random_state=4)\n",
    "\n",
    "yTrain = pd.DataFrame(Train[LABEL]).copy()\n",
    "yTest = pd.DataFrame(Test[LABEL]).copy()\n",
    "\n",
    "Train.drop(LABEL, axis=1, inplace=True)\n",
    "Test.drop(LABEL, axis=1, inplace=True)\n",
    "\n",
    "xTrain = pd.DataFrame(Train).copy()\n",
    "xTest = pd.DataFrame(Test).copy()\n",
    "print(\"Finished Train-Test Split.\")\n",
    "PERFORMANCE = pd.DataFrame(columns=['Model','Accuracy','Precision','Recall','F1Score','TrainingTime','PredictionTime'])"
   ],
   "outputs": [
    {
     "name": "stdout",
     "output_type": "stream",
     "text": [
      "Finished Train-Test Split.\n"
     ]
    }
   ],
   "execution_count": 5
  },
  {
   "cell_type": "code",
   "id": "88cb1b9d",
   "metadata": {
    "ExecuteTime": {
     "end_time": "2024-11-13T16:39:28.078113Z",
     "start_time": "2024-11-13T16:38:10.085358Z"
    }
   },
   "source": [
    "from sklearn.naive_bayes import GaussianNB\n",
    "model = GaussianNB()\n",
    "\n",
    "start = time.time()\n",
    "n = len(yTrain.axes[0])\n",
    "for i in range(0,n):\n",
    "    try:\n",
    "        X = xTrain.iloc[[i]].to_numpy() \n",
    "        Y = yTrain.iloc[[i]]\n",
    "        Y = np.array(Y[LABEL])\n",
    "        model.partial_fit(X, Y, classes=[0,1])        \n",
    "    except Exception as ex:\n",
    "        print(ex)\n",
    "\n",
    "end = time.time()\n",
    "trainTime = int(end - start)\n",
    "\n",
    "start = time.time()\n",
    "X = xTrain.to_numpy()\n",
    "Y = np.array(yTrain[LABEL])\n",
    "predict = model.predict(X)\n",
    "accuracy = metrics.accuracy_score(Y, predict)\n",
    "precision = metrics.precision_score(Y, predict)\n",
    "recall = metrics.recall_score(Y, predict)\n",
    "f1score = metrics.f1_score(Y, predict, zero_division=1)\n",
    "end = time.time()\n",
    "predictionTime = int(end - start)\n",
    "trainRow = {'Model':\"GaussianNB_Training\",'Accuracy':accuracy, 'Precision':precision, 'Recall':recall, 'F1Score':f1score,\n",
    "           'TrainingTime':trainTime,'PredictionTime':predictionTime}\n",
    "\n",
    "start = time.time()\n",
    "X = xTest.to_numpy()\n",
    "Y = np.array(yTest[LABEL])\n",
    "predict = model.predict(X)\n",
    "accuracy = metrics.accuracy_score(Y, predict)\n",
    "precision = metrics.precision_score(Y, predict)\n",
    "recall = metrics.recall_score(Y, predict)\n",
    "f1score = metrics.f1_score(Y, predict, zero_division=1)\n",
    "end = time.time()\n",
    "predictionTime = int(end - start)\n",
    "testRow = {'Model':\"GaussianNB_Prediction\",'Accuracy':accuracy, 'Precision':precision, 'Recall':recall, 'F1Score':f1score,\n",
    "           'TrainingTime':trainTime,'PredictionTime':predictionTime}\n",
    "\n",
    "print(trainRow)\n",
    "print(testRow)\n",
    "PERFORMANCE = pd.concat([PERFORMANCE, pd.DataFrame([trainRow])], ignore_index=True)\n",
    "PERFORMANCE = pd.concat([PERFORMANCE, pd.DataFrame([testRow])], ignore_index=True)"
   ],
   "outputs": [
    {
     "name": "stdout",
     "output_type": "stream",
     "text": [
      "{'Model': 'GaussianNB_Training', 'Accuracy': 0.5720482745250097, 'Precision': np.float64(0.5720482745250097), 'Recall': np.float64(1.0), 'F1Score': np.float64(0.7277744377129292), 'TrainingTime': 77, 'PredictionTime': 0}\n",
      "{'Model': 'GaussianNB_Prediction', 'Accuracy': 0.571537624224261, 'Precision': np.float64(0.571537624224261), 'Recall': np.float64(1.0), 'F1Score': np.float64(0.7273610448956094), 'TrainingTime': 77, 'PredictionTime': 0}\n"
     ]
    }
   ],
   "execution_count": 6
  },
  {
   "cell_type": "code",
   "id": "acaeb14b",
   "metadata": {
    "scrolled": true,
    "ExecuteTime": {
     "end_time": "2024-11-13T16:41:00.279612Z",
     "start_time": "2024-11-13T16:39:28.147153Z"
    }
   },
   "source": [
    "from sklearn.naive_bayes import MultinomialNB\n",
    "model = MultinomialNB()\n",
    "\n",
    "start = time.time()\n",
    "n = len(yTrain.axes[0])\n",
    "for i in range(0,n):\n",
    "    try:\n",
    "        X = xTrain.iloc[[i]].to_numpy() \n",
    "        Y = yTrain.iloc[[i]]\n",
    "        Y = np.array(Y[LABEL])\n",
    "        model.partial_fit(X, Y, classes=[0,1])        \n",
    "    except Exception as ex:\n",
    "        print(ex)\n",
    "\n",
    "end = time.time()\n",
    "trainTime = int(end - start)\n",
    "\n",
    "start = time.time()\n",
    "X = xTrain.to_numpy()\n",
    "Y = np.array(yTrain[LABEL])\n",
    "predict = model.predict(X)\n",
    "accuracy = metrics.accuracy_score(Y, predict)\n",
    "precision = metrics.precision_score(Y, predict)\n",
    "recall = metrics.recall_score(Y, predict)\n",
    "f1score = metrics.f1_score(Y, predict, zero_division=1)\n",
    "end = time.time()\n",
    "predictionTime = int(end - start)\n",
    "trainRow = {'Model':\"MultinomialNB_Training\",'Accuracy':accuracy, 'Precision':precision, 'Recall':recall, 'F1Score':f1score,\n",
    "           'TrainingTime':trainTime,'PredictionTime':predictionTime}\n",
    "\n",
    "start = time.time()\n",
    "X = xTest.to_numpy()\n",
    "Y = np.array(yTest[LABEL])\n",
    "predict = model.predict(X)\n",
    "accuracy = metrics.accuracy_score(Y, predict)\n",
    "precision = metrics.precision_score(Y, predict)\n",
    "recall = metrics.recall_score(Y, predict)\n",
    "f1score = metrics.f1_score(Y, predict, zero_division=1)\n",
    "end = time.time()\n",
    "predictionTime = int(end - start)\n",
    "testRow = {'Model':\"MultinomialNB_Prediction\",'Accuracy':accuracy, 'Precision':precision, 'Recall':recall, 'F1Score':f1score,\n",
    "           'TrainingTime':trainTime,'PredictionTime':predictionTime}\n",
    "\n",
    "print(trainRow)\n",
    "print(testRow)\n",
    "PERFORMANCE = pd.concat([PERFORMANCE, pd.DataFrame([trainRow])], ignore_index=True)\n",
    "PERFORMANCE = pd.concat([PERFORMANCE, pd.DataFrame([testRow])], ignore_index=True)"
   ],
   "outputs": [
    {
     "name": "stdout",
     "output_type": "stream",
     "text": [
      "{'Model': 'MultinomialNB_Training', 'Accuracy': 0.6892266867002714, 'Precision': np.float64(0.6527467856763361), 'Recall': np.float64(0.9759055284897268), 'F1Score': np.float64(0.7822654243691237), 'TrainingTime': 91, 'PredictionTime': 0}\n",
      "{'Model': 'MultinomialNB_Prediction', 'Accuracy': 0.6906939594848669, 'Precision': np.float64(0.6535850306342109), 'Recall': np.float64(0.9762552559980213), 'F1Score': np.float64(0.7829795675461217), 'TrainingTime': 91, 'PredictionTime': 0}\n"
     ]
    }
   ],
   "execution_count": 7
  },
  {
   "cell_type": "code",
   "id": "cd781b97",
   "metadata": {
    "ExecuteTime": {
     "end_time": "2024-11-13T16:42:41.194476Z",
     "start_time": "2024-11-13T16:41:00.361285Z"
    }
   },
   "source": [
    "from sklearn.naive_bayes import BernoulliNB\n",
    "model = BernoulliNB()\n",
    "\n",
    "start = time.time()\n",
    "n = len(yTrain.axes[0])\n",
    "for i in range(0,n):\n",
    "    try:\n",
    "        X = xTrain.iloc[[i]].to_numpy() \n",
    "        Y = yTrain.iloc[[i]]\n",
    "        Y = np.array(Y[LABEL])\n",
    "        model.partial_fit(X, Y, classes=[0,1])        \n",
    "    except Exception as ex:\n",
    "        print(ex)\n",
    "\n",
    "end = time.time()\n",
    "trainTime = int(end - start)\n",
    "\n",
    "start = time.time()\n",
    "X = xTrain.to_numpy()\n",
    "Y = np.array(yTrain[LABEL])\n",
    "predict = model.predict(X)\n",
    "accuracy = metrics.accuracy_score(Y, predict)\n",
    "precision = metrics.precision_score(Y, predict)\n",
    "recall = metrics.recall_score(Y, predict)\n",
    "f1score = metrics.f1_score(Y, predict, zero_division=1)\n",
    "end = time.time()\n",
    "predictionTime = int(end - start)\n",
    "trainRow = {'Model':\"BernoulliNB_Training\",'Accuracy':accuracy, 'Precision':precision, 'Recall':recall, 'F1Score':f1score,\n",
    "           'TrainingTime':trainTime,'PredictionTime':predictionTime}\n",
    "\n",
    "start = time.time()\n",
    "X = xTest.to_numpy()\n",
    "Y = np.array(yTest[LABEL])\n",
    "predict = model.predict(X)\n",
    "accuracy = metrics.accuracy_score(Y, predict)\n",
    "precision = metrics.precision_score(Y, predict)\n",
    "recall = metrics.recall_score(Y, predict)\n",
    "f1score = metrics.f1_score(Y, predict, zero_division=1)\n",
    "end = time.time()\n",
    "predictionTime = int(end - start)\n",
    "testRow = {'Model':\"BernoulliNB_Prediction\",'Accuracy':accuracy, 'Precision':precision, 'Recall':recall, 'F1Score':f1score,\n",
    "           'TrainingTime':trainTime,'PredictionTime':predictionTime}\n",
    "\n",
    "print(trainRow)\n",
    "print(testRow)\n",
    "PERFORMANCE = pd.concat([PERFORMANCE, pd.DataFrame([trainRow])], ignore_index=True)\n",
    "PERFORMANCE = pd.concat([PERFORMANCE, pd.DataFrame([testRow])], ignore_index=True)"
   ],
   "outputs": [
    {
     "name": "stdout",
     "output_type": "stream",
     "text": [
      "{'Model': 'BernoulliNB_Training', 'Accuracy': 0.9867620686312524, 'Precision': np.float64(0.9792673421667966), 'Recall': np.float64(0.9979877144672739), 'F1Score': np.float64(0.9885389073933226), 'TrainingTime': 100, 'PredictionTime': 0}\n",
      "{'Model': 'BernoulliNB_Prediction', 'Accuracy': 0.9864996677928723, 'Precision': np.float64(0.9787517888762219), 'Recall': np.float64(0.9980460054415038), 'F1Score': np.float64(0.9883047381118581), 'TrainingTime': 100, 'PredictionTime': 0}\n"
     ]
    }
   ],
   "execution_count": 8
  },
  {
   "cell_type": "code",
   "id": "52516162",
   "metadata": {
    "ExecuteTime": {
     "end_time": "2024-11-13T16:43:51.108871Z",
     "start_time": "2024-11-13T16:42:41.280899Z"
    }
   },
   "source": [
    "from sklearn.linear_model import PassiveAggressiveClassifier\n",
    "model = PassiveAggressiveClassifier()\n",
    "\n",
    "start = time.time()\n",
    "n = len(yTrain.axes[0])\n",
    "for i in range(0,n):\n",
    "    try:\n",
    "        X = xTrain.iloc[[i]].to_numpy() \n",
    "        Y = yTrain.iloc[[i]]\n",
    "        Y = np.array(Y[LABEL])\n",
    "        model.partial_fit(X, Y, classes=[0,1])        \n",
    "    except Exception as ex:\n",
    "        print(ex)\n",
    "\n",
    "end = time.time()\n",
    "trainTime = int(end - start)\n",
    "\n",
    "start = time.time()\n",
    "X = xTrain.to_numpy()\n",
    "Y = np.array(yTrain[LABEL])\n",
    "predict = model.predict(X)\n",
    "accuracy = metrics.accuracy_score(Y, predict)\n",
    "precision = metrics.precision_score(Y, predict)\n",
    "recall = metrics.recall_score(Y, predict)\n",
    "f1score = metrics.f1_score(Y, predict, zero_division=1)\n",
    "end = time.time()\n",
    "predictionTime = int(end - start)\n",
    "trainRow = {'Model':\"PassiveAggressive_Training\",'Accuracy':accuracy, 'Precision':precision, 'Recall':recall, 'F1Score':f1score,\n",
    "           'TrainingTime':trainTime,'PredictionTime':predictionTime}\n",
    "\n",
    "start = time.time()\n",
    "X = xTest.to_numpy()\n",
    "Y = np.array(yTest[LABEL])\n",
    "predict = model.predict(X)\n",
    "accuracy = metrics.accuracy_score(Y, predict)\n",
    "precision = metrics.precision_score(Y, predict)\n",
    "recall = metrics.recall_score(Y, predict)\n",
    "f1score = metrics.f1_score(Y, predict, zero_division=1)\n",
    "end = time.time()\n",
    "predictionTime = int(end - start)\n",
    "testRow = {'Model':\"PassiveAggressive_Prediction\",'Accuracy':accuracy, 'Precision':precision, 'Recall':recall, 'F1Score':f1score,\n",
    "           'TrainingTime':trainTime,'PredictionTime':predictionTime}\n",
    "\n",
    "print(trainRow)\n",
    "print(testRow)\n",
    "PERFORMANCE = pd.concat([PERFORMANCE, pd.DataFrame([trainRow])], ignore_index=True)\n",
    "PERFORMANCE = pd.concat([PERFORMANCE, pd.DataFrame([testRow])], ignore_index=True)"
   ],
   "outputs": [
    {
     "name": "stdout",
     "output_type": "stream",
     "text": [
      "{'Model': 'PassiveAggressive_Training', 'Accuracy': 0.9939535672741373, 'Precision': np.float64(0.9938573120189461), 'Recall': np.float64(0.9955835628044906), 'F1Score': np.float64(0.9947196884722016), 'TrainingTime': 69, 'PredictionTime': 0}\n",
      "{'Model': 'PassiveAggressive_Prediction', 'Accuracy': 0.9941616364381741, 'Precision': np.float64(0.9942444976903886), 'Recall': np.float64(0.995547860499629), 'F1Score': np.float64(0.9948957522277013), 'TrainingTime': 69, 'PredictionTime': 0}\n"
     ]
    }
   ],
   "execution_count": 9
  },
  {
   "cell_type": "code",
   "id": "4b67bde6",
   "metadata": {
    "ExecuteTime": {
     "end_time": "2024-11-13T16:45:23.716656Z",
     "start_time": "2024-11-13T16:43:51.188606Z"
    }
   },
   "source": [
    "from sklearn.linear_model import Perceptron\n",
    "model = Perceptron()\n",
    "\n",
    "start = time.time()\n",
    "n = len(yTrain.axes[0])\n",
    "for i in range(0,n):\n",
    "    try:\n",
    "        X = xTrain.iloc[[i]].to_numpy() \n",
    "        Y = yTrain.iloc[[i]]\n",
    "        Y = np.array(Y[LABEL])\n",
    "        model.partial_fit(X, Y, classes=[0,1])        \n",
    "    except Exception as ex:\n",
    "        print(ex)\n",
    "\n",
    "end = time.time()\n",
    "trainTime = int(end - start)\n",
    "\n",
    "start = time.time()\n",
    "X = xTrain.to_numpy()\n",
    "Y = np.array(yTrain[LABEL])\n",
    "predict = model.predict(X)\n",
    "accuracy = metrics.accuracy_score(Y, predict)\n",
    "precision = metrics.precision_score(Y, predict)\n",
    "recall = metrics.recall_score(Y, predict)\n",
    "f1score = metrics.f1_score(Y, predict, zero_division=1)\n",
    "end = time.time()\n",
    "predictionTime = int(end - start)\n",
    "trainRow = {'Model':\"Perceptron_Training\",'Accuracy':accuracy, 'Precision':precision, 'Recall':recall, 'F1Score':f1score,\n",
    "           'TrainingTime':trainTime,'PredictionTime':predictionTime}\n",
    "\n",
    "start = time.time()\n",
    "X = xTest.to_numpy()\n",
    "Y = np.array(yTest[LABEL])\n",
    "predict = model.predict(X)\n",
    "accuracy = metrics.accuracy_score(Y, predict)\n",
    "precision = metrics.precision_score(Y, predict)\n",
    "recall = metrics.recall_score(Y, predict)\n",
    "f1score = metrics.f1_score(Y, predict, zero_division=1)\n",
    "end = time.time()\n",
    "predictionTime = int(end - start)\n",
    "testRow = {'Model':\"Perceptron_Prediction\",'Accuracy':accuracy, 'Precision':precision, 'Recall':recall, 'F1Score':f1score,\n",
    "           'TrainingTime':trainTime,'PredictionTime':predictionTime}\n",
    "\n",
    "print(trainRow)\n",
    "print(testRow)\n",
    "PERFORMANCE = pd.concat([PERFORMANCE, pd.DataFrame([trainRow])], ignore_index=True)\n",
    "PERFORMANCE = pd.concat([PERFORMANCE, pd.DataFrame([testRow])], ignore_index=True)"
   ],
   "outputs": [
    {
     "name": "stdout",
     "output_type": "stream",
     "text": [
      "{'Model': 'Perceptron_Training', 'Accuracy': 0.9415592283830942, 'Precision': np.float64(0.9084785290262894), 'Recall': np.float64(0.9984219445032833), 'F1Score': np.float64(0.9513290411124791), 'TrainingTime': 92, 'PredictionTime': 0}\n",
      "{'Model': 'Perceptron_Prediction', 'Accuracy': 0.9436378800944316, 'Precision': np.float64(0.9112184333461217), 'Recall': np.float64(0.9986890922582241), 'F1Score': np.float64(0.9529507558324778), 'TrainingTime': 92, 'PredictionTime': 0}\n"
     ]
    }
   ],
   "execution_count": 10
  },
  {
   "cell_type": "code",
   "id": "af438f87",
   "metadata": {
    "ExecuteTime": {
     "end_time": "2024-11-13T16:46:35.051814Z",
     "start_time": "2024-11-13T16:45:23.800597Z"
    }
   },
   "source": [
    "from sklearn.linear_model import SGDClassifier\n",
    "model = SGDClassifier()\n",
    "\n",
    "start = time.time()\n",
    "n = len(yTrain.axes[0])\n",
    "for i in range(0,n):\n",
    "    try:\n",
    "        X = xTrain.iloc[[i]].to_numpy() \n",
    "        Y = yTrain.iloc[[i]]\n",
    "        Y = np.array(Y[LABEL])\n",
    "        model.partial_fit(X, Y, classes=[0,1])        \n",
    "    except Exception as ex:\n",
    "        print(ex)\n",
    "\n",
    "end = time.time()\n",
    "trainTime = int(end - start)\n",
    "\n",
    "start = time.time()\n",
    "X = xTrain.to_numpy()\n",
    "Y = np.array(yTrain[LABEL])\n",
    "predict = model.predict(X)\n",
    "accuracy = metrics.accuracy_score(Y, predict)\n",
    "precision = metrics.precision_score(Y, predict)\n",
    "recall = metrics.recall_score(Y, predict)\n",
    "f1score = metrics.f1_score(Y, predict, zero_division=1)\n",
    "end = time.time()\n",
    "predictionTime = int(end - start)\n",
    "trainRow = {'Model':\"SGDClassifier_Training\",'Accuracy':accuracy, 'Precision':precision, 'Recall':recall, 'F1Score':f1score,\n",
    "           'TrainingTime':trainTime,'PredictionTime':predictionTime}\n",
    "\n",
    "start = time.time()\n",
    "X = xTest.to_numpy()\n",
    "Y = np.array(yTest[LABEL])\n",
    "predict = model.predict(X)\n",
    "accuracy = metrics.accuracy_score(Y, predict)\n",
    "precision = metrics.precision_score(Y, predict)\n",
    "recall = metrics.recall_score(Y, predict)\n",
    "f1score = metrics.f1_score(Y, predict, zero_division=1)\n",
    "end = time.time()\n",
    "predictionTime = int(end - start)\n",
    "testRow = {'Model':\"SGDClassifier_Prediction\",'Accuracy':accuracy, 'Precision':precision, 'Recall':recall, 'F1Score':f1score,\n",
    "           'TrainingTime':trainTime,'PredictionTime':predictionTime}\n",
    "\n",
    "print(trainRow)\n",
    "print(testRow)\n",
    "PERFORMANCE = pd.concat([PERFORMANCE, pd.DataFrame([trainRow])], ignore_index=True)\n",
    "PERFORMANCE = pd.concat([PERFORMANCE, pd.DataFrame([testRow])], ignore_index=True)"
   ],
   "outputs": [
    {
     "name": "stdout",
     "output_type": "stream",
     "text": [
      "{'Model': 'SGDClassifier_Training', 'Accuracy': 0.944327985653354, 'Precision': np.float64(0.913169095333663), 'Recall': np.float64(0.9975323024782885), 'F1Score': np.float64(0.9534882543796156), 'TrainingTime': 71, 'PredictionTime': 0}\n",
      "{'Model': 'SGDClassifier_Prediction', 'Accuracy': 0.9465782665856175, 'Precision': np.float64(0.9160442254864123), 'Recall': np.float64(0.9979965372248331), 'F1Score': np.float64(0.9552659303715805), 'TrainingTime': 71, 'PredictionTime': 0}\n"
     ]
    }
   ],
   "execution_count": 11
  },
  {
   "cell_type": "code",
   "id": "6b140f1b",
   "metadata": {
    "ExecuteTime": {
     "end_time": "2024-11-13T16:46:46.528377Z",
     "start_time": "2024-11-13T16:46:46.519698Z"
    }
   },
   "source": [
    "# PERFORMANCE.to_csv('dataset/Reports/P7_IdentifyClassifiersReport.csv',index = False)\n",
    "PERFORMANCE"
   ],
   "outputs": [
    {
     "data": {
      "text/plain": [
       "                           Model  Accuracy  Precision    Recall   F1Score  \\\n",
       "0            GaussianNB_Training  0.572048   0.572048  1.000000  0.727774   \n",
       "1          GaussianNB_Prediction  0.571538   0.571538  1.000000  0.727361   \n",
       "2         MultinomialNB_Training  0.689227   0.652747  0.975906  0.782265   \n",
       "3       MultinomialNB_Prediction  0.690694   0.653585  0.976255  0.782980   \n",
       "4           BernoulliNB_Training  0.986762   0.979267  0.997988  0.988539   \n",
       "5         BernoulliNB_Prediction  0.986500   0.978752  0.998046  0.988305   \n",
       "6     PassiveAggressive_Training  0.993954   0.993857  0.995584  0.994720   \n",
       "7   PassiveAggressive_Prediction  0.994162   0.994244  0.995548  0.994896   \n",
       "8            Perceptron_Training  0.941559   0.908479  0.998422  0.951329   \n",
       "9          Perceptron_Prediction  0.943638   0.911218  0.998689  0.952951   \n",
       "10        SGDClassifier_Training  0.944328   0.913169  0.997532  0.953488   \n",
       "11      SGDClassifier_Prediction  0.946578   0.916044  0.997997  0.955266   \n",
       "\n",
       "   TrainingTime PredictionTime  \n",
       "0            77              0  \n",
       "1            77              0  \n",
       "2            91              0  \n",
       "3            91              0  \n",
       "4           100              0  \n",
       "5           100              0  \n",
       "6            69              0  \n",
       "7            69              0  \n",
       "8            92              0  \n",
       "9            92              0  \n",
       "10           71              0  \n",
       "11           71              0  "
      ],
      "text/html": [
       "<div>\n",
       "<style scoped>\n",
       "    .dataframe tbody tr th:only-of-type {\n",
       "        vertical-align: middle;\n",
       "    }\n",
       "\n",
       "    .dataframe tbody tr th {\n",
       "        vertical-align: top;\n",
       "    }\n",
       "\n",
       "    .dataframe thead th {\n",
       "        text-align: right;\n",
       "    }\n",
       "</style>\n",
       "<table border=\"1\" class=\"dataframe\">\n",
       "  <thead>\n",
       "    <tr style=\"text-align: right;\">\n",
       "      <th></th>\n",
       "      <th>Model</th>\n",
       "      <th>Accuracy</th>\n",
       "      <th>Precision</th>\n",
       "      <th>Recall</th>\n",
       "      <th>F1Score</th>\n",
       "      <th>TrainingTime</th>\n",
       "      <th>PredictionTime</th>\n",
       "    </tr>\n",
       "  </thead>\n",
       "  <tbody>\n",
       "    <tr>\n",
       "      <th>0</th>\n",
       "      <td>GaussianNB_Training</td>\n",
       "      <td>0.572048</td>\n",
       "      <td>0.572048</td>\n",
       "      <td>1.000000</td>\n",
       "      <td>0.727774</td>\n",
       "      <td>77</td>\n",
       "      <td>0</td>\n",
       "    </tr>\n",
       "    <tr>\n",
       "      <th>1</th>\n",
       "      <td>GaussianNB_Prediction</td>\n",
       "      <td>0.571538</td>\n",
       "      <td>0.571538</td>\n",
       "      <td>1.000000</td>\n",
       "      <td>0.727361</td>\n",
       "      <td>77</td>\n",
       "      <td>0</td>\n",
       "    </tr>\n",
       "    <tr>\n",
       "      <th>2</th>\n",
       "      <td>MultinomialNB_Training</td>\n",
       "      <td>0.689227</td>\n",
       "      <td>0.652747</td>\n",
       "      <td>0.975906</td>\n",
       "      <td>0.782265</td>\n",
       "      <td>91</td>\n",
       "      <td>0</td>\n",
       "    </tr>\n",
       "    <tr>\n",
       "      <th>3</th>\n",
       "      <td>MultinomialNB_Prediction</td>\n",
       "      <td>0.690694</td>\n",
       "      <td>0.653585</td>\n",
       "      <td>0.976255</td>\n",
       "      <td>0.782980</td>\n",
       "      <td>91</td>\n",
       "      <td>0</td>\n",
       "    </tr>\n",
       "    <tr>\n",
       "      <th>4</th>\n",
       "      <td>BernoulliNB_Training</td>\n",
       "      <td>0.986762</td>\n",
       "      <td>0.979267</td>\n",
       "      <td>0.997988</td>\n",
       "      <td>0.988539</td>\n",
       "      <td>100</td>\n",
       "      <td>0</td>\n",
       "    </tr>\n",
       "    <tr>\n",
       "      <th>5</th>\n",
       "      <td>BernoulliNB_Prediction</td>\n",
       "      <td>0.986500</td>\n",
       "      <td>0.978752</td>\n",
       "      <td>0.998046</td>\n",
       "      <td>0.988305</td>\n",
       "      <td>100</td>\n",
       "      <td>0</td>\n",
       "    </tr>\n",
       "    <tr>\n",
       "      <th>6</th>\n",
       "      <td>PassiveAggressive_Training</td>\n",
       "      <td>0.993954</td>\n",
       "      <td>0.993857</td>\n",
       "      <td>0.995584</td>\n",
       "      <td>0.994720</td>\n",
       "      <td>69</td>\n",
       "      <td>0</td>\n",
       "    </tr>\n",
       "    <tr>\n",
       "      <th>7</th>\n",
       "      <td>PassiveAggressive_Prediction</td>\n",
       "      <td>0.994162</td>\n",
       "      <td>0.994244</td>\n",
       "      <td>0.995548</td>\n",
       "      <td>0.994896</td>\n",
       "      <td>69</td>\n",
       "      <td>0</td>\n",
       "    </tr>\n",
       "    <tr>\n",
       "      <th>8</th>\n",
       "      <td>Perceptron_Training</td>\n",
       "      <td>0.941559</td>\n",
       "      <td>0.908479</td>\n",
       "      <td>0.998422</td>\n",
       "      <td>0.951329</td>\n",
       "      <td>92</td>\n",
       "      <td>0</td>\n",
       "    </tr>\n",
       "    <tr>\n",
       "      <th>9</th>\n",
       "      <td>Perceptron_Prediction</td>\n",
       "      <td>0.943638</td>\n",
       "      <td>0.911218</td>\n",
       "      <td>0.998689</td>\n",
       "      <td>0.952951</td>\n",
       "      <td>92</td>\n",
       "      <td>0</td>\n",
       "    </tr>\n",
       "    <tr>\n",
       "      <th>10</th>\n",
       "      <td>SGDClassifier_Training</td>\n",
       "      <td>0.944328</td>\n",
       "      <td>0.913169</td>\n",
       "      <td>0.997532</td>\n",
       "      <td>0.953488</td>\n",
       "      <td>71</td>\n",
       "      <td>0</td>\n",
       "    </tr>\n",
       "    <tr>\n",
       "      <th>11</th>\n",
       "      <td>SGDClassifier_Prediction</td>\n",
       "      <td>0.946578</td>\n",
       "      <td>0.916044</td>\n",
       "      <td>0.997997</td>\n",
       "      <td>0.955266</td>\n",
       "      <td>71</td>\n",
       "      <td>0</td>\n",
       "    </tr>\n",
       "  </tbody>\n",
       "</table>\n",
       "</div>"
      ]
     },
     "execution_count": 13,
     "metadata": {},
     "output_type": "execute_result"
    }
   ],
   "execution_count": 13
  },
  {
   "cell_type": "code",
   "execution_count": null,
   "id": "e4145205",
   "metadata": {},
   "outputs": [],
   "source": []
  }
 ],
 "metadata": {
  "kernelspec": {
   "display_name": "Python 3 (ipykernel)",
   "language": "python",
   "name": "python3"
  },
  "language_info": {
   "codemirror_mode": {
    "name": "ipython",
    "version": 3
   },
   "file_extension": ".py",
   "mimetype": "text/x-python",
   "name": "python",
   "nbconvert_exporter": "python",
   "pygments_lexer": "ipython3",
   "version": "3.9.13"
  }
 },
 "nbformat": 4,
 "nbformat_minor": 5
}
