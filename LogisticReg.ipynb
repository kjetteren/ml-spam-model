{
 "cells": [
  {
   "cell_type": "code",
   "execution_count": null,
   "id": "7d4a23f7",
   "metadata": {},
   "outputs": [],
   "source": [
    "import numpy as np\n",
    "import pandas as pd\n",
    "# Sigmoid function from assignment\n",
    "def sigmoid(z):\n",
    "    return 1 / (1 + np.exp(-z))\n",
    "#End Sigmoid Function\n",
    "\n",
    "def train_logistic_regression(X, y, lr=0.01, epochs=1000):\n",
    "    m, n = X.shape\n",
    "    w = np.zeros(n)  # Initialize weights\n",
    "    b = 0            # Initialize bias\n",
    "    \n",
    "    for epoch in range(epochs):\n",
    "        z = np.dot(X, w) + b\n",
    "        #From assingment\n",
    "        predictions = sigmoid(z)\n",
    "        \n",
    "        # Compute gradients\n",
    "        dw = (1 / m) * np.dot(X.T, (predictions - y))\n",
    "        db = (1 / m) * np.sum(predictions - y)\n",
    "        \n",
    "        # Update weights and bias\n",
    "        w -= lr * dw\n",
    "        b -= lr * db\n",
    "        #End From assignment\n",
    "    \n",
    "    return w, b\n",
    "# Predict function from assignment\n",
    "def predict(X, w, b, threshold=0.5):\n",
    "    z = np.dot(X, w) + b\n",
    "    probabilities = sigmoid(z)\n",
    "    #end from assignment\n",
    "    return (probabilities >= threshold).astype(int)\n",
    "\n",
    "\n",
    "# Import data (replace with your actual dataset)\n",
    "\n",
    "# Normalize X for better performance\n",
    "\n",
    "data=pd.read_csv(\"dataset/PhishingDataset.csv\")\n",
    "X = data[['DomainLength']].values.reshape(-1, 1)\n",
    "y = data['label'].values                # Convert 'is_scam' to a NumPy array\n",
    "X = (X - np.mean(X)) / np.std(X)\n",
    "weights, bias = train_logistic_regression(X, y, lr=0.1, epochs=1000)\n",
    "# Test the model\n",
    "test_length = 40\n",
    "test_normalized = (test_length - np.mean(data['DomainLength'])) / np.std(data['DomainLength'])\n",
    "test_prediction = predict(np.array([[test_normalized]]), weights, bias)\n",
    "print(f\"Prediction for string of length {test_length}: {'Scam' if test_prediction[0] == 1 else 'Not scam'}\")"
   ]
  },
  {
   "cell_type": "code",
   "execution_count": null,
   "id": "04f7867e",
   "metadata": {},
   "outputs": [],
   "source": []
  }
 ],
 "metadata": {
  "kernelspec": {
   "display_name": "Python 3 (ipykernel)",
   "language": "python",
   "name": "python3"
  },
  "language_info": {
   "codemirror_mode": {
    "name": "ipython",
    "version": 3
   },
   "file_extension": ".py",
   "mimetype": "text/x-python",
   "name": "python",
   "nbconvert_exporter": "python",
   "pygments_lexer": "ipython3",
   "version": "3.9.7"
  }
 },
 "nbformat": 4,
 "nbformat_minor": 5
}
